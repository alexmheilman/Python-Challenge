{
 "cells": [
  {
   "cell_type": "code",
   "execution_count": 99,
   "id": "3d31f533",
   "metadata": {},
   "outputs": [],
   "source": [
    "import os\n",
    "import csv\n",
    "import pandas as pd"
   ]
  },
  {
   "cell_type": "code",
   "execution_count": 100,
   "id": "baa5ebeb",
   "metadata": {},
   "outputs": [
    {
     "data": {
      "text/plain": [
       "'/Users/alexheilman/Documents/Python-Challenge/PyPoll'"
      ]
     },
     "execution_count": 100,
     "metadata": {},
     "output_type": "execute_result"
    }
   ],
   "source": [
    "# Determine working directory\n",
    "os.getcwd()"
   ]
  },
  {
   "cell_type": "code",
   "execution_count": 101,
   "id": "df03da3d",
   "metadata": {},
   "outputs": [],
   "source": [
    "# Read in the csv file to use\n",
    "election_data = pd.read_csv(\"Resources/election_data.csv\")"
   ]
  },
  {
   "cell_type": "code",
   "execution_count": 102,
   "id": "bfcaf805",
   "metadata": {},
   "outputs": [
    {
     "data": {
      "text/html": [
       "<div>\n",
       "<style scoped>\n",
       "    .dataframe tbody tr th:only-of-type {\n",
       "        vertical-align: middle;\n",
       "    }\n",
       "\n",
       "    .dataframe tbody tr th {\n",
       "        vertical-align: top;\n",
       "    }\n",
       "\n",
       "    .dataframe thead th {\n",
       "        text-align: right;\n",
       "    }\n",
       "</style>\n",
       "<table border=\"1\" class=\"dataframe\">\n",
       "  <thead>\n",
       "    <tr style=\"text-align: right;\">\n",
       "      <th></th>\n",
       "      <th>Ballot ID</th>\n",
       "      <th>County</th>\n",
       "      <th>Candidate</th>\n",
       "    </tr>\n",
       "  </thead>\n",
       "  <tbody>\n",
       "    <tr>\n",
       "      <th>0</th>\n",
       "      <td>1323913</td>\n",
       "      <td>Jefferson</td>\n",
       "      <td>Charles Casper Stockham</td>\n",
       "    </tr>\n",
       "    <tr>\n",
       "      <th>1</th>\n",
       "      <td>1005842</td>\n",
       "      <td>Jefferson</td>\n",
       "      <td>Charles Casper Stockham</td>\n",
       "    </tr>\n",
       "    <tr>\n",
       "      <th>2</th>\n",
       "      <td>1880345</td>\n",
       "      <td>Jefferson</td>\n",
       "      <td>Charles Casper Stockham</td>\n",
       "    </tr>\n",
       "    <tr>\n",
       "      <th>3</th>\n",
       "      <td>1600337</td>\n",
       "      <td>Jefferson</td>\n",
       "      <td>Charles Casper Stockham</td>\n",
       "    </tr>\n",
       "    <tr>\n",
       "      <th>4</th>\n",
       "      <td>1835994</td>\n",
       "      <td>Jefferson</td>\n",
       "      <td>Charles Casper Stockham</td>\n",
       "    </tr>\n",
       "    <tr>\n",
       "      <th>...</th>\n",
       "      <td>...</td>\n",
       "      <td>...</td>\n",
       "      <td>...</td>\n",
       "    </tr>\n",
       "    <tr>\n",
       "      <th>369706</th>\n",
       "      <td>4714953</td>\n",
       "      <td>Arapahoe</td>\n",
       "      <td>Raymon Anthony Doane</td>\n",
       "    </tr>\n",
       "    <tr>\n",
       "      <th>369707</th>\n",
       "      <td>4497542</td>\n",
       "      <td>Arapahoe</td>\n",
       "      <td>Raymon Anthony Doane</td>\n",
       "    </tr>\n",
       "    <tr>\n",
       "      <th>369708</th>\n",
       "      <td>4085849</td>\n",
       "      <td>Arapahoe</td>\n",
       "      <td>Raymon Anthony Doane</td>\n",
       "    </tr>\n",
       "    <tr>\n",
       "      <th>369709</th>\n",
       "      <td>4592018</td>\n",
       "      <td>Arapahoe</td>\n",
       "      <td>Raymon Anthony Doane</td>\n",
       "    </tr>\n",
       "    <tr>\n",
       "      <th>369710</th>\n",
       "      <td>4660518</td>\n",
       "      <td>Arapahoe</td>\n",
       "      <td>Raymon Anthony Doane</td>\n",
       "    </tr>\n",
       "  </tbody>\n",
       "</table>\n",
       "<p>369711 rows × 3 columns</p>\n",
       "</div>"
      ],
      "text/plain": [
       "        Ballot ID     County                Candidate\n",
       "0         1323913  Jefferson  Charles Casper Stockham\n",
       "1         1005842  Jefferson  Charles Casper Stockham\n",
       "2         1880345  Jefferson  Charles Casper Stockham\n",
       "3         1600337  Jefferson  Charles Casper Stockham\n",
       "4         1835994  Jefferson  Charles Casper Stockham\n",
       "...           ...        ...                      ...\n",
       "369706    4714953   Arapahoe     Raymon Anthony Doane\n",
       "369707    4497542   Arapahoe     Raymon Anthony Doane\n",
       "369708    4085849   Arapahoe     Raymon Anthony Doane\n",
       "369709    4592018   Arapahoe     Raymon Anthony Doane\n",
       "369710    4660518   Arapahoe     Raymon Anthony Doane\n",
       "\n",
       "[369711 rows x 3 columns]"
      ]
     },
     "execution_count": 102,
     "metadata": {},
     "output_type": "execute_result"
    }
   ],
   "source": [
    "# Create a DataFrame using budget_data\n",
    "election_data_df = pd.DataFrame(election_data)\n",
    "election_data_df"
   ]
  },
  {
   "cell_type": "code",
   "execution_count": 103,
   "id": "ccbaf712",
   "metadata": {},
   "outputs": [
    {
     "name": "stdout",
     "output_type": "stream",
     "text": [
      "369711\n"
     ]
    }
   ],
   "source": [
    "# Get total number of votes \n",
    "total_votes = election_data['Ballot ID'].nunique()\n",
    "print(total_votes)"
   ]
  },
  {
   "cell_type": "code",
   "execution_count": 104,
   "id": "2c98e3a2",
   "metadata": {},
   "outputs": [
    {
     "data": {
      "text/plain": [
       "[array(['Charles Casper Stockham', 'Diana DeGette', 'Raymon Anthony Doane'],\n",
       "       dtype=object)]"
      ]
     },
     "execution_count": 104,
     "metadata": {},
     "output_type": "execute_result"
    }
   ],
   "source": [
    "# Candidates who recieved votes\n",
    "candidates = election_data['Candidate'].unique()\n",
    "people = []\n",
    "people.append(candidates)\n",
    "people"
   ]
  },
  {
   "cell_type": "code",
   "execution_count": 105,
   "id": "bf261eb0",
   "metadata": {},
   "outputs": [
    {
     "name": "stdout",
     "output_type": "stream",
     "text": [
      "Total Votes for Stockham: 85213\n",
      "Percent of Votes for Stockham: 23.04854332167558\n"
     ]
    }
   ],
   "source": [
    "# Total and Percent of vote for Stockham     \n",
    "votes_ccs = election_data['Candidate'].str.contains('Charles Casper Stockham').sum()\n",
    "print('Total Votes for Stockham:', votes_ccs)\n",
    "\n",
    "percent_votes_ccs = (votes_ccs/total_votes) * 100\n",
    "print('Percent of Votes for Stockham:', percent_votes_ccs)"
   ]
  },
  {
   "cell_type": "code",
   "execution_count": 106,
   "id": "cfcab6ce",
   "metadata": {},
   "outputs": [
    {
     "name": "stdout",
     "output_type": "stream",
     "text": [
      "Total Votes for DeGette: 272892\n",
      "Percent of Votes for DeGette: 73.81224794501652\n"
     ]
    }
   ],
   "source": [
    "# Total and Percent of vote for DeGette     \n",
    "votes_dd = election_data['Candidate'].str.contains('Diana DeGette').sum()\n",
    "print('Total Votes for DeGette:', votes_dd)\n",
    "\n",
    "percent_votes_dd = (votes_dd/total_votes) * 100\n",
    "print('Percent of Votes for DeGette:',percent_votes_dd)"
   ]
  },
  {
   "cell_type": "code",
   "execution_count": 107,
   "id": "a7fdc70f",
   "metadata": {},
   "outputs": [
    {
     "name": "stdout",
     "output_type": "stream",
     "text": [
      "Total Votes for Doane: 11606\n",
      "Percent of Votes for Doane: 3.1392087333079077\n"
     ]
    }
   ],
   "source": [
    "# Total and Percent of vote for Doane     \n",
    "votes_rad = election_data['Candidate'].str.contains('Raymon Anthony Doane').sum()\n",
    "print('Total Votes for Doane:', votes_rad)\n",
    "\n",
    "percent_votes_rad = (votes_rad/total_votes) * 100\n",
    "print('Percent of Votes for Doane:', percent_votes_rad)"
   ]
  },
  {
   "cell_type": "code",
   "execution_count": 108,
   "id": "911fc103",
   "metadata": {},
   "outputs": [],
   "source": [
    "# Compile List of # of Votes per candidate\n",
    "winner = [votes_ccs,votes_dd,votes_rad]\n",
    "percent_winner = [percent_votes_ccs, percent_votes_dd, percent_votes_rad]"
   ]
  },
  {
   "cell_type": "code",
   "execution_count": 109,
   "id": "9f74dad7",
   "metadata": {},
   "outputs": [
    {
     "name": "stdout",
     "output_type": "stream",
     "text": [
      "                         Total Votes\n",
      "Charles Casper Stockham        85213\n",
      "Diana DeGette                 272892\n",
      "Raymon Anthony Doane           11606\n"
     ]
    }
   ],
   "source": [
    "# Create a data frame with the candidates and the votes they received\n",
    "winner_df = pd.DataFrame(winner,people)\n",
    "winner_df.columns = ['Total Votes']\n",
    "print(winner_df)"
   ]
  },
  {
   "cell_type": "code",
   "execution_count": 110,
   "id": "165abd98",
   "metadata": {},
   "outputs": [
    {
     "name": "stdout",
     "output_type": "stream",
     "text": [
      "                         Percent of Votes\n",
      "Charles Casper Stockham         23.048543\n",
      "Diana DeGette                   73.812248\n",
      "Raymon Anthony Doane             3.139209\n"
     ]
    }
   ],
   "source": [
    "# Create a data frame with percent of votes\n",
    "percent_votes_df = pd.DataFrame(percent_winner, people)\n",
    "percent_votes_df.columns = ['Percent of Votes']\n",
    "print(percent_votes_df)"
   ]
  },
  {
   "cell_type": "code",
   "execution_count": 111,
   "id": "4a58bfe5",
   "metadata": {},
   "outputs": [
    {
     "name": "stdout",
     "output_type": "stream",
     "text": [
      "Winner: Diana DeGette\n"
     ]
    }
   ],
   "source": [
    "# Determine who the winner is \n",
    "if votes_ccs > votes_dd and votes_ccs > votes_rad:\n",
    "    print('Winner: Charles Casper Stockham')\n",
    "elif votes_dd > votes_ccs and votes_dd > votes_rad:\n",
    "    print('Winner: Diana DeGette')\n",
    "elif votes_rad > votes_ccs and votes_rad > votes_dd:\n",
    "    print('Winner: Raymon Anthony Doane')"
   ]
  },
  {
   "cell_type": "code",
   "execution_count": 112,
   "id": "f7ae1342",
   "metadata": {},
   "outputs": [],
   "source": [
    "# Write to a csv file\n",
    "winner_df.to_csv('total_votes_per_candidate.csv')\n",
    "percent_votes_df.to_csv('percent_votes_per_candidate.csv')"
   ]
  },
  {
   "cell_type": "code",
   "execution_count": null,
   "id": "bf0d1efb",
   "metadata": {},
   "outputs": [],
   "source": []
  }
 ],
 "metadata": {
  "kernelspec": {
   "display_name": "Python 3 (ipykernel)",
   "language": "python",
   "name": "python3"
  },
  "language_info": {
   "codemirror_mode": {
    "name": "ipython",
    "version": 3
   },
   "file_extension": ".py",
   "mimetype": "text/x-python",
   "name": "python",
   "nbconvert_exporter": "python",
   "pygments_lexer": "ipython3",
   "version": "3.9.13"
  }
 },
 "nbformat": 4,
 "nbformat_minor": 5
}
